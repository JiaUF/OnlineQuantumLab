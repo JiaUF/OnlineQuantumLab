{
  "cells": [
    {
      "cell_type": "markdown",
      "metadata": {
        "id": "view-in-github",
        "colab_type": "text"
      },
      "source": [
        "<a href=\"https://colab.research.google.com/github/JiaUF/OnlineQuantumLab/blob/main/BB84_QKD.ipynb\" target=\"_parent\"><img src=\"https://colab.research.google.com/assets/colab-badge.svg\" alt=\"Open In Colab\"/></a>"
      ]
    },
    {
      "cell_type": "markdown",
      "id": "ae8cfaea",
      "metadata": {
        "id": "ae8cfaea"
      },
      "source": [
        "> Before running the codes, please install qiskit in the Colab terminal by using the commands:   \n",
        "> pip install qiskit.  \n",
        "> pip install 'qiskit[visualization]'.  \n",
        "> pip install qiskit-aer.  \n",
        "\n",
        "# BB84 Quantum Key Distribution Protocol\n",
        "\n",
        "BB84 is the first and probably the most famous quantum key distribution (QKD) protocal. It allows two parties—traditionally named Alice and Bob—to generate a shared, secret cryptographic key, with the unique property that any eavesdropping attempt by a third party (Eve) can be detected.\n",
        "\n",
        "In this notebook, we will walk through the steps of the BB84 protocol using Python and Qiskit to simulate the process and visualize how secure quantum communication is established. The key ideas involve:\n",
        "- Quantum bits (qubits) in different bases (Z and X)\n",
        "- Random basis selection\n",
        "- Quantum state collapse after measurement\n"
      ]
    },
    {
      "cell_type": "code",
      "execution_count": null,
      "id": "bd61eba8",
      "metadata": {
        "id": "bd61eba8"
      },
      "outputs": [],
      "source": [
        "# Imports\n",
        "import numpy as np\n",
        "from qiskit import QuantumCircuit, transpile\n",
        "from qiskit_aer import Aer\n",
        "from qiskit.visualization import plot_histogram\n",
        "import random\n",
        "import matplotlib.pyplot as plt"
      ]
    },
    {
      "cell_type": "markdown",
      "id": "6ffc0e2e",
      "metadata": {
        "id": "6ffc0e2e"
      },
      "source": [
        "### Step 1: Generate Random Bits and Bases\n",
        "Alice randomly chooses a bit (0 or 1) and a basis (Z or X) for each qubit, and send to Bob. Here, for basis Z, 0 and 1 represent $|0\\rangle$ and $|1\\rangle$, respectively; for basis X, 0 and 1 represent $|-\\rangle$ and $|+\\rangle$, respectively.\n",
        "\n",
        "Bob also randomly chooses a basis to measure each qubit that he receives from Alice."
      ]
    },
    {
      "cell_type": "code",
      "execution_count": null,
      "id": "d0fadaab",
      "metadata": {
        "id": "d0fadaab"
      },
      "outputs": [],
      "source": [
        "# Number of qubits\n",
        "n = 50\n",
        "\n",
        "# Alice's bits and bases\n",
        "alice_bits = [random.randint(0, 1) for _ in range(n)]\n",
        "alice_bases = [random.choice(['Z', 'X']) for _ in range(n)]\n",
        "\n",
        "# Bob's bases\n",
        "bob_bases = [random.choice(['Z', 'X']) for _ in range(n)]"
      ]
    },
    {
      "cell_type": "markdown",
      "id": "1e27f99f",
      "metadata": {
        "id": "1e27f99f"
      },
      "source": [
        "### Step 2: Simulate Qubit Transmission and Measurement\n",
        "For each qubit:\n",
        "- Alice prepares the qubit in the correct quantum state.\n",
        "- Bob measures it in his chosen basis."
      ]
    },
    {
      "cell_type": "code",
      "execution_count": null,
      "id": "742e1f89",
      "metadata": {
        "colab": {
          "base_uri": "https://localhost:8080/"
        },
        "id": "742e1f89",
        "outputId": "ed71ec3a-7447-44de-8c16-117fd12bfb5c"
      },
      "outputs": [
        {
          "output_type": "stream",
          "name": "stdout",
          "text": [
            "AerSimulator('aer_simulator')\n",
            " Alice's basis: X. Alice's bit: 1. Bob's basis: X. Bob measured: 1\n",
            "\n",
            " Alice's basis: Z. Alice's bit: 1. Bob's basis: Z. Bob measured: 1\n",
            "\n",
            " Alice's basis: X. Alice's bit: 1. Bob's basis: Z. Bob measured: 1\n",
            "\n",
            " Alice's basis: X. Alice's bit: 1. Bob's basis: Z. Bob measured: 1\n",
            "\n",
            " Alice's basis: X. Alice's bit: 1. Bob's basis: X. Bob measured: 1\n",
            "\n",
            " Alice's basis: Z. Alice's bit: 1. Bob's basis: Z. Bob measured: 1\n",
            "\n",
            " Alice's basis: Z. Alice's bit: 1. Bob's basis: Z. Bob measured: 1\n",
            "\n",
            " Alice's basis: Z. Alice's bit: 1. Bob's basis: Z. Bob measured: 1\n",
            "\n",
            " Alice's basis: X. Alice's bit: 1. Bob's basis: Z. Bob measured: 0\n",
            "\n",
            " Alice's basis: Z. Alice's bit: 0. Bob's basis: X. Bob measured: 0\n",
            "\n",
            " Alice's basis: X. Alice's bit: 1. Bob's basis: Z. Bob measured: 1\n",
            "\n",
            " Alice's basis: X. Alice's bit: 1. Bob's basis: Z. Bob measured: 1\n",
            "\n",
            " Alice's basis: Z. Alice's bit: 0. Bob's basis: X. Bob measured: 1\n",
            "\n",
            " Alice's basis: X. Alice's bit: 0. Bob's basis: Z. Bob measured: 0\n",
            "\n",
            " Alice's basis: Z. Alice's bit: 0. Bob's basis: Z. Bob measured: 0\n",
            "\n",
            " Alice's basis: X. Alice's bit: 1. Bob's basis: Z. Bob measured: 1\n",
            "\n",
            " Alice's basis: X. Alice's bit: 1. Bob's basis: Z. Bob measured: 1\n",
            "\n",
            " Alice's basis: Z. Alice's bit: 1. Bob's basis: X. Bob measured: 0\n",
            "\n",
            " Alice's basis: Z. Alice's bit: 1. Bob's basis: Z. Bob measured: 1\n",
            "\n",
            " Alice's basis: Z. Alice's bit: 0. Bob's basis: Z. Bob measured: 0\n",
            "\n",
            " Alice's basis: Z. Alice's bit: 1. Bob's basis: Z. Bob measured: 1\n",
            "\n",
            " Alice's basis: X. Alice's bit: 0. Bob's basis: X. Bob measured: 0\n",
            "\n",
            " Alice's basis: X. Alice's bit: 0. Bob's basis: X. Bob measured: 0\n",
            "\n",
            " Alice's basis: Z. Alice's bit: 1. Bob's basis: X. Bob measured: 0\n",
            "\n",
            " Alice's basis: Z. Alice's bit: 0. Bob's basis: Z. Bob measured: 0\n",
            "\n",
            " Alice's basis: Z. Alice's bit: 0. Bob's basis: Z. Bob measured: 0\n",
            "\n",
            " Alice's basis: Z. Alice's bit: 1. Bob's basis: Z. Bob measured: 1\n",
            "\n",
            " Alice's basis: Z. Alice's bit: 1. Bob's basis: Z. Bob measured: 1\n",
            "\n",
            " Alice's basis: X. Alice's bit: 0. Bob's basis: X. Bob measured: 0\n",
            "\n",
            " Alice's basis: Z. Alice's bit: 1. Bob's basis: Z. Bob measured: 1\n",
            "\n",
            " Alice's basis: Z. Alice's bit: 1. Bob's basis: Z. Bob measured: 1\n",
            "\n",
            " Alice's basis: X. Alice's bit: 0. Bob's basis: X. Bob measured: 0\n",
            "\n",
            " Alice's basis: X. Alice's bit: 0. Bob's basis: X. Bob measured: 0\n",
            "\n",
            " Alice's basis: Z. Alice's bit: 0. Bob's basis: X. Bob measured: 1\n",
            "\n",
            " Alice's basis: X. Alice's bit: 1. Bob's basis: X. Bob measured: 1\n",
            "\n",
            " Alice's basis: Z. Alice's bit: 1. Bob's basis: X. Bob measured: 0\n",
            "\n",
            " Alice's basis: Z. Alice's bit: 0. Bob's basis: X. Bob measured: 1\n",
            "\n",
            " Alice's basis: Z. Alice's bit: 1. Bob's basis: Z. Bob measured: 1\n",
            "\n",
            " Alice's basis: X. Alice's bit: 1. Bob's basis: X. Bob measured: 1\n",
            "\n",
            " Alice's basis: X. Alice's bit: 1. Bob's basis: Z. Bob measured: 0\n",
            "\n",
            " Alice's basis: X. Alice's bit: 0. Bob's basis: X. Bob measured: 0\n",
            "\n",
            " Alice's basis: Z. Alice's bit: 1. Bob's basis: X. Bob measured: 0\n",
            "\n",
            " Alice's basis: X. Alice's bit: 1. Bob's basis: X. Bob measured: 1\n",
            "\n",
            " Alice's basis: Z. Alice's bit: 0. Bob's basis: Z. Bob measured: 0\n",
            "\n",
            " Alice's basis: Z. Alice's bit: 1. Bob's basis: X. Bob measured: 0\n",
            "\n",
            " Alice's basis: Z. Alice's bit: 0. Bob's basis: X. Bob measured: 0\n",
            "\n",
            " Alice's basis: X. Alice's bit: 0. Bob's basis: Z. Bob measured: 1\n",
            "\n",
            " Alice's basis: Z. Alice's bit: 1. Bob's basis: X. Bob measured: 0\n",
            "\n",
            " Alice's basis: X. Alice's bit: 0. Bob's basis: X. Bob measured: 0\n",
            "\n",
            " Alice's basis: Z. Alice's bit: 1. Bob's basis: Z. Bob measured: 1\n",
            "\n",
            "Simulation complete.\n",
            "Bob's results: [1, 1, 1, 1, 1, 1, 1, 1, 0, 0, 1, 1, 1, 0, 0, 1, 1, 0, 1, 0, 1, 0, 0, 0, 0, 0, 1, 1, 0, 1, 1, 0, 0, 1, 1, 0, 1, 1, 1, 0, 0, 0, 1, 0, 0, 0, 1, 0, 0, 1]\n"
          ]
        }
      ],
      "source": [
        "# Load aer_simulator as the backend. Here we run on aer quantum simulator.\n",
        "backend = Aer.get_backend('aer_simulator')\n",
        "print(backend)\n",
        "\n",
        "bob_results = []\n",
        "\n",
        "for bit, a_basis, b_basis in zip(alice_bits, alice_bases, bob_bases):\n",
        "\n",
        "    # create a quantum circuit with 1 quantum bit (initialized in the state ∣0⟩)\n",
        "    # and 1 classical bit\n",
        "    qc = QuantumCircuit(1, 1)\n",
        "\n",
        "    # Prepare Alice's qubit\n",
        "    if bit == 1:\n",
        "        # apply X gate to qubit 0, the numbering starts with 0\n",
        "        qc.x(0)\n",
        "    if a_basis == 'X':\n",
        "        qc.h(0)\n",
        "\n",
        "    # Apply Bob's basis choice\n",
        "    if b_basis == 'X':\n",
        "        qc.h(0)\n",
        "\n",
        "    # qc.measure makes the measurement of qubit 0 to a classical bit 0.\n",
        "    # The numbering starts with 0\n",
        "    qc.measure(0, 0)\n",
        "\n",
        "    # Transpile and run\n",
        "    new_qc = transpile(qc, backend)\n",
        "\n",
        "    # You can print the initial quantum circuit qc and the new quantum circuit\n",
        "    # new_qc to visualize how the quantum compiler simplifies the circuit\n",
        "    #print(qc)\n",
        "    #print(new_qc)\n",
        "\n",
        "    # shots = 1 means Run the circuit just once (i.e., generate one sample\n",
        "    # measurement).\n",
        "    job = backend.run(new_qc, shots=1, memory=True)\n",
        "    result = job.result()\n",
        "    measured = int(result.get_memory()[0])\n",
        "    bob_results.append(measured)\n",
        "\n",
        "    print(f\" Alice's basis: {a_basis}. Alice's bit: {bit}. Bob's basis: {b_basis}. Bob measured: {measured}\")\n",
        "    print()\n",
        "\n",
        "print(\"Simulation complete.\")\n",
        "print(\"Bob's results:\", bob_results)"
      ]
    },
    {
      "cell_type": "markdown",
      "id": "7b9bc698",
      "metadata": {
        "id": "7b9bc698"
      },
      "source": [
        "### Step 3: Sift Key\n",
        "Alice and Bob compare bases over a classical channel and keep only the bits where their bases match."
      ]
    },
    {
      "cell_type": "code",
      "execution_count": null,
      "id": "5a5ef3e5",
      "metadata": {
        "colab": {
          "base_uri": "https://localhost:8080/"
        },
        "id": "5a5ef3e5",
        "outputId": "8bd623fd-13e7-425e-c39e-952e07219b29"
      },
      "outputs": [
        {
          "output_type": "stream",
          "name": "stdout",
          "text": [
            "Sifted key (Alice, Bob):\n",
            "[(1, 1), (1, 1), (1, 1), (1, 1), (1, 1), (1, 1), (0, 0), (1, 1), (0, 0), (1, 1), (0, 0), (0, 0), (0, 0), (0, 0), (1, 1), (1, 1), (0, 0), (1, 1), (1, 1), (0, 0), (0, 0), (1, 1), (1, 1), (1, 1), (0, 0), (1, 1), (0, 0), (0, 0), (1, 1)]\n",
            "Counter({(1, 1): 17, (0, 0): 12})\n",
            "\n",
            "The states (Alice, Bob) when Alice and Bob chose different basis:\n",
            "[(1, 1), (1, 1), (1, 0), (0, 0), (1, 1), (1, 1), (0, 1), (0, 0), (1, 1), (1, 1), (1, 0), (1, 0), (0, 1), (1, 0), (0, 1), (1, 0), (1, 0), (1, 0), (0, 0), (0, 1), (1, 0)]\n",
            "Counter({(1, 0): 8, (1, 1): 6, (0, 1): 4, (0, 0): 3})\n"
          ]
        }
      ],
      "source": [
        "from typing import Counter\n",
        "# Key sifting\n",
        "states_same_basis = []\n",
        "states_different_basis = []\n",
        "for a_bit, a_basis, b_basis, b_bit in zip(alice_bits, alice_bases, bob_bases, bob_results):\n",
        "    if a_basis == b_basis:\n",
        "        states_same_basis.append((a_bit, b_bit))\n",
        "    else:\n",
        "        states_different_basis.append((a_bit, b_bit))\n",
        "\n",
        "\n",
        "print(\"Sifted key (Alice, Bob):\")\n",
        "print(states_same_basis)\n",
        "print(Counter(states_same_basis))\n",
        "print()\n",
        "print(\"The states (Alice, Bob) when Alice and Bob chose different basis:\")\n",
        "print(states_different_basis)\n",
        "print(Counter(states_different_basis))"
      ]
    }
  ],
  "metadata": {
    "kernelspec": {
      "display_name": "Python 3",
      "language": "python",
      "name": "python3"
    },
    "language_info": {
      "name": "python"
    },
    "colab": {
      "provenance": [],
      "include_colab_link": true
    }
  },
  "nbformat": 4,
  "nbformat_minor": 5
}