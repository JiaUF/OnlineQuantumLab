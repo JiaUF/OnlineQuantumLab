{
  "cells": [
    {
      "cell_type": "markdown",
      "metadata": {
        "id": "view-in-github",
        "colab_type": "text"
      },
      "source": [
        "<a href=\"https://colab.research.google.com/github/JiaUF/OnlineQuantumLab/blob/main/Deutsch_Jozsa_Algorithm.ipynb\" target=\"_parent\"><img src=\"https://colab.research.google.com/assets/colab-badge.svg\" alt=\"Open In Colab\"/></a>"
      ]
    },
    {
      "cell_type": "markdown",
      "id": "6e68acd6",
      "metadata": {
        "id": "6e68acd6"
      },
      "source": [
        "> Before running the codes, please install qiskit in the Colab terminal by using the commands:  \n",
        "> pip install qiskit  \n",
        "> pip install 'qiskit[visualization]'  \n",
        "> pip install qiskit-aer\n",
        "\n",
        "\n",
        "# Deutsch-Jozsa Algorithm: Implementation in Qiskit\n",
        "\n",
        "This notebook walks you through the Deutsch-Jozsa algorithm for determining whether a function $f(x)$ is constant or balanced.\n",
        "\n",
        "In the Deutsch–Jozsa algorithm, we are given a special type of function $f(x)$ that takes a 1-bit input (either 0 or 1) and outputs either 0 or 1. We are promised that the function is one of the following:\n",
        "\n",
        "- **Constant function**:\n",
        "  The output is the same for all inputs. That is, $f(0) = f(1)$.\n",
        "  Examples:\n",
        "  - $f(0) = 0,\\ f(1) = 0$\n",
        "  - $f(0) = 1,\\ f(1) = 1$\n",
        "\n",
        "- **Balanced function**:\n",
        "  The output is 0 for one input and 1 for the other. That is, $f(0) \\ne f(1)$.\n",
        "  Examples:\n",
        "  - $f(0) = 0,\\ f(1) = 1$\n",
        "  - $f(0) = 1,\\ f(1) = 0$\n",
        "\n",
        "The goal of the Deutsch–Jozsa algorithm is to determine whether the unknown function is **constant** or **balanced**, using just **one** evaluation on a quantum computer. This highlights the power of quantum algorithms compared to classical ones.\n",
        "\n",
        "The key idea is to use **quantum parallelism and interference** to determine the function type with just one query.\n",
        "\n",
        "Now, let's explore how to implement the Deutsch-Jozsa algorithm using the Qiskit quantum simulator.\n",
        "\n"
      ]
    },
    {
      "cell_type": "code",
      "execution_count": 4,
      "id": "42bb8772",
      "metadata": {
        "id": "42bb8772"
      },
      "outputs": [],
      "source": [
        "from qiskit import QuantumCircuit, transpile\n",
        "from qiskit_aer import Aer\n",
        "from qiskit.visualization import plot_histogram\n",
        "import matplotlib.pyplot as plt"
      ]
    },
    {
      "cell_type": "markdown",
      "id": "e7bc8e39",
      "metadata": {
        "id": "e7bc8e39"
      },
      "source": [
        "## Step 1: Define the Oracle for the function $f(x)$\n",
        "\n",
        "The oracle will implement the transformation:\n",
        "\n",
        "$|x⟩|y⟩ \\rightarrow |x⟩|y \\oplus f(x)⟩$\n",
        "\n",
        "We create oracles for constant and balanced functions.\n"
      ]
    },
    {
      "cell_type": "code",
      "execution_count": 21,
      "id": "a61d5ea0",
      "metadata": {
        "id": "a61d5ea0"
      },
      "outputs": [],
      "source": [
        "# Return a quantum circuit implementing the DJ oracle for f(x).\n",
        "# You can understand oracle as a black box that performs some computation.\n",
        "\n",
        "def deutsch_jozsa_oracle(case='constant'):\n",
        "    # We create a quantum circuit that has 2 qubits.\n",
        "    oracle = QuantumCircuit(2)\n",
        "    if case == 'balanced':\n",
        "        # control-NOT gate. it applies a NOT (X) gate to the second qubit\n",
        "        # (index 1) if and only if the first qubit (index 0) is in the state |1⟩\n",
        "        oracle.cx(0, 1)\n",
        "    elif case == 'constant':\n",
        "        pass  # identity if f(x) = 0\n",
        "    return oracle\n"
      ]
    },
    {
      "cell_type": "markdown",
      "id": "daace628",
      "metadata": {
        "id": "daace628"
      },
      "source": [
        "## Step 2: Deutsch-Jozsa Circuit Construction\n",
        "\n",
        "We initialize the qubits to $|0⟩$ and $|1⟩$, then apply Hadamard gates to both, apply the oracle, and apply another Hadamard to the first qubit.\n"
      ]
    },
    {
      "cell_type": "code",
      "execution_count": 13,
      "id": "313e7e36",
      "metadata": {
        "id": "313e7e36"
      },
      "outputs": [],
      "source": [
        "def deutsch_jozsa_circuit(case='constant'):\n",
        "    qc = QuantumCircuit(2, 1)\n",
        "\n",
        "    # Initialize |0⟩|1⟩\n",
        "    qc.x(1)  # Set bottom qubit to |1⟩\n",
        "    qc.h([0, 1])  # Apply Hadamard to both\n",
        "\n",
        "    # Apply the oracle\n",
        "    oracle = deutsch_jozsa_oracle(case)\n",
        "    qc.append(oracle.to_gate(), [0, 1])\n",
        "\n",
        "    # Apply Hadamard to the first qubit\n",
        "    qc.h(0)\n",
        "\n",
        "    # Measure the first qubit\n",
        "    qc.measure(0, 0)\n",
        "    print(qc)\n",
        "\n",
        "    return qc"
      ]
    },
    {
      "cell_type": "markdown",
      "id": "7d88855a",
      "metadata": {
        "id": "7d88855a"
      },
      "source": [
        "## Step 3: Run the circuit and interpret results\n",
        "\n",
        "If the result is always 0, then the function is **constant**.  \n",
        "If the result is 1, then the function is **balanced**.\n"
      ]
    },
    {
      "cell_type": "code",
      "execution_count": 20,
      "id": "2e38d48c",
      "metadata": {
        "colab": {
          "base_uri": "https://localhost:8080/"
        },
        "id": "2e38d48c",
        "outputId": "26c198d9-a511-4ce0-ab48-58d02a3ec4eb"
      },
      "outputs": [
        {
          "output_type": "stream",
          "name": "stdout",
          "text": [
            "     ┌───┐     ┌──────────────┐┌───┐┌─┐\n",
            "q_0: ┤ H ├─────┤0             ├┤ H ├┤M├\n",
            "     ├───┤┌───┐│  circuit-212 │└───┘└╥┘\n",
            "q_1: ┤ X ├┤ H ├┤1             ├──────╫─\n",
            "     └───┘└───┘└──────────────┘      ║ \n",
            "c: 1/════════════════════════════════╩═\n",
            "                                     0 \n",
            "[CONSTANT] First 5 measurement outcomes: ['0', '0', '0', '0', '0']\n",
            "[CONSTANT] Measurement counts: {'0': 1024}\n",
            "     ┌───┐     ┌──────────────┐┌───┐┌─┐\n",
            "q_0: ┤ H ├─────┤0             ├┤ H ├┤M├\n",
            "     ├───┤┌───┐│  circuit-217 │└───┘└╥┘\n",
            "q_1: ┤ X ├┤ H ├┤1             ├──────╫─\n",
            "     └───┘└───┘└──────────────┘      ║ \n",
            "c: 1/════════════════════════════════╩═\n",
            "                                     0 \n",
            "[BALANCED] First 5 measurement outcomes: ['1', '1', '1', '1', '1']\n",
            "[BALANCED] Measurement counts: {'1': 1024}\n"
          ]
        }
      ],
      "source": [
        "from qiskit import QuantumCircuit, transpile\n",
        "from qiskit_aer import Aer\n",
        "from qiskit.visualization import plot_histogram\n",
        "import matplotlib.pyplot as plt\n",
        "\n",
        "def run_and_plot(case='constant'):\n",
        "    # Get Deutsch-Jozsa circuit\n",
        "    qc = deutsch_jozsa_circuit(case)\n",
        "\n",
        "    # Choose backend simulator\n",
        "    backend = Aer.get_backend('aer_simulator')\n",
        "\n",
        "    # Transpile circuit for backend\n",
        "    transpiled = transpile(qc, backend)\n",
        "\n",
        "    # Run with memory enabled to access individual shots\n",
        "    job = backend.run(transpiled, shots=1024, memory=True)\n",
        "    result = job.result()\n",
        "\n",
        "    # Access full shot memory\n",
        "    memory = result.get_memory()\n",
        "    print(f\"[{case.upper()}] First 5 measurement outcomes:\", memory[:5])\n",
        "\n",
        "    # Access and plot measurement counts\n",
        "    counts = result.get_counts()\n",
        "    print(f\"[{case.upper()}] Measurement counts:\", counts)\n",
        "    #plot_histogram(counts)\n",
        "    #plt.title(f\"Deutsch-Jozsa result for a {case} function\")\n",
        "    #plt.show()\n",
        "\n",
        "# Run both test cases\n",
        "run_and_plot('constant')\n",
        "run_and_plot('balanced')"
      ]
    },
    {
      "cell_type": "markdown",
      "source": [
        "### Interpreting the Results\n",
        "\n",
        "As you can see from the results, when the function $f(x)$ is **constant**, the measurement of qubit 0 always yields **0**.  \n",
        "In contrast, when $f(x)$ is **balanced**, the measurement of qubit 0 always yields **1**.  \n",
        "\n",
        "This clear distinction is what makes the Deutsch–Jozsa algorithm powerful—it determines the global property of a function (constant or balanced) with a single query."
      ],
      "metadata": {
        "id": "2C7ydBzkVDxF"
      },
      "id": "2C7ydBzkVDxF"
    }
  ],
  "metadata": {
    "colab": {
      "provenance": [],
      "include_colab_link": true
    },
    "language_info": {
      "name": "python"
    },
    "kernelspec": {
      "name": "python3",
      "display_name": "Python 3"
    }
  },
  "nbformat": 4,
  "nbformat_minor": 5
}