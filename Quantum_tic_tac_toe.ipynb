{
  "nbformat": 4,
  "nbformat_minor": 0,
  "metadata": {
    "colab": {
      "provenance": [],
      "include_colab_link": true
    },
    "kernelspec": {
      "name": "python3",
      "display_name": "Python 3"
    },
    "language_info": {
      "name": "python"
    }
  },
  "cells": [
    {
      "cell_type": "markdown",
      "metadata": {
        "id": "view-in-github",
        "colab_type": "text"
      },
      "source": [
        "<a href=\"https://colab.research.google.com/github/JiaUF/OnlineQuantumLab/blob/main/Quantum_tic_tac_toe.ipynb\" target=\"_parent\"><img src=\"https://colab.research.google.com/assets/colab-badge.svg\" alt=\"Open In Colab\"/></a>"
      ]
    },
    {
      "cell_type": "markdown",
      "source": [
        "\n",
        "# Quantum tic-tac-toe\n",
        "\n",
        "## Goal\n",
        "\n",
        "In this Jupyter notebook, we will introduce a quantum version of tic-tac-toe. As we explore the game, we will demonstrate important concepts in quantum mechanics and quantum computing:\n",
        " * entanglement\n",
        " * superposition\n",
        " * state collapse in measurement\n",
        "\n",
        "## Resources:\n",
        "* In case you don't know how to play tic-tac-toe (we call it as classic tic-tac-toe), you can find the instruction at https://en.wikipedia.org/wiki/Tic-tac-toe\n",
        "* You can find the game instruction on wikipedia: https://en.wikipedia.org/wiki/Quantum_tic-tac-toe\n",
        "* You can play this game at https://qcloud.phys.ncku.edu.tw/quantum-tic-tac-toe/\n",
        "\n",
        "## General rules:\n",
        "### (1) Entanglement\n",
        "For classic tic-tac-toe, each player mark X or O on one of the empty spaces in the three by three grid. For quantum tic-tac-toe, for each move, each player can mark two spaces with X or O, creating an entangled state.\n",
        "\n",
        "In the following example, player X plays the first move, and placing X on space 1 and 3, thus creating a entangled state of $\\frac{1}{\\sqrt{2}}(|1\\rangle + |3\\rangle)$ for this move.\n",
        "![QTTT](./figures/picture1.png)\n",
        "\n",
        "Then, player O plays the second mmove, and places O on space 5 and 8, creading an entangled state of $\\frac{1}{\\sqrt{2}}(|5\\rangle + |8\\rangle)$ for this move.\n",
        "\n",
        "### (2) Superposition\n",
        "\n",
        "For the above two moves, each move creates a state with superposition. For example, the move by player O, is a quantum state of $\\frac{1}{\\sqrt{2}}(|5\\rangle + |8\\rangle)$. This state is not only $|5\\rangle$ nor $|8\\rangle$, but a superposition of $|5\\rangle$ and $|8\\rangle$, with the prefactor $\\frac{1}{\\sqrt{2}}$ as the renormalization factor.\n",
        "\n",
        "### (3) Collapse at measurement\n",
        "\n",
        "\n",
        "When a **cyclic entanglement** occurs, the quantum states must collapse into classical states through measurement.\n",
        "\n",
        "**What is a cyclic entanglement?**\n",
        "\n",
        "A cyclic entanglement forms when moves create a loop in the entanglement graph. For example:\n",
        "- Move X₁ entangles square 1 with square 3\n",
        "- Move O₂ entangles square 3 with square 7\n",
        "- Move X₃ entangles square 7 with square 1\n",
        "\n",
        "This creates a cycle: 1 → 3 → 7 → 1\n",
        "\n",
        "**What happens during collapse?**\n",
        "\n",
        "When a cycle is detected, the player who did NOT create the cycle must choose how to \"measure\" it. This choice determines where each mark in the cycle collapses to. The measurement causes a chain reaction - all entangled states connected to the cycle also collapse into definite classical positions.\n",
        "\n",
        "After collapse:\n",
        "- The collapsed marks become **classical marks** (permanent, shown in bold)\n",
        "- These squares cannot receive any more quantum marks\n",
        "- The game continues with remaining squares\n",
        "\n",
        "**Mathematical representation:**\n",
        "\n",
        "Before measurement, the quantum state exists in superposition:\n",
        "$$|\\psi\\rangle = \\frac{1}{\\sqrt{2}}(|1\\rangle + |3\\rangle)$$\n",
        "\n",
        "After measurement collapses to square 1:\n",
        "$$|\\psi\\rangle \\rightarrow |1\\rangle$$\n",
        "\n",
        "The probability of measuring either state is:\n",
        "$$P(|1\\rangle) = \\left|\\frac{1}{\\sqrt{2}}\\right|^2 = \\frac{1}{2}$$\n",
        "$$P(|3\\rangle) = \\left|\\frac{1}{\\sqrt{2}}\\right|^2 = \\frac{1}{2}$$\n",
        "\n",
        "In quantum tic-tac-toe, the player making the measurement choice determines the outcome, simulating the role of the observer in quantum mechanics.\n",
        "\n",
        "\n"
      ],
      "metadata": {
        "id": "Kz6sV4Riuj6b"
      }
    },
    {
      "cell_type": "code",
      "source": [],
      "metadata": {
        "id": "jFAlIQBBcUT5"
      },
      "execution_count": null,
      "outputs": []
    }
  ]
}